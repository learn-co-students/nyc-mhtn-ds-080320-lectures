{
 "cells": [
  {
   "cell_type": "markdown",
   "metadata": {},
   "source": [
    "# JSON and APIs\n",
    "\n",
    "_August 11, 2020_\n",
    "\n",
    "Agenda today:\n",
    "- Introduction to API and Remote Server Model \n",
    "- Getting data through an API:\n",
    "    - Github API\n",
    "    - Yelp API\n",
    "- Working with JSON files"
   ]
  },
  {
   "cell_type": "code",
   "execution_count": 1,
   "metadata": {},
   "outputs": [],
   "source": [
    "import pandas as pd\n",
    "import numpy as np\n",
    "import requests\n",
    "import json\n",
    "from yelp.client import Client\n",
    "import matplotlib.pyplot as plt\n",
    "plt.style.use('seaborn')"
   ]
  },
  {
   "cell_type": "markdown",
   "metadata": {},
   "source": [
    "## Part I. APIs and Remote Server Model\n",
    "API stands for Application Programming Interface. At some point or the other, large companies would build API for their products for their clients or internal use. It allows the company's application to communicate with another application. But what _exactly_ is an API?\n",
    "\n",
    "#### Remote server \n",
    "When we think about the world of Web, we can think of it as a collection of _servers_. And servers are nothing but huge computers that store a huge amount of data from users and are optimized to process requests. For example, when you type in www.facebook.com, your browser sends a _request_ to the Facebook server, and gets a response from the server, thus interpreting the code and displaying your homepage. \n",
    "\n",
    "In this case, your browser is the _client_, and Facebook’s server is an API. To put it broadly, whenever you visit a website, you are interacting with its API. However, an API isn’t the same as the remote server — rather it is the part of the server that receives __requests__ and sends __responses__.\n",
    "\n",
    "<img src='status-code.png' width = 500>"
   ]
  },
  {
   "cell_type": "markdown",
   "metadata": {},
   "source": [
    "## Part II. Getting Data Through APIs\n",
    "\n",
    "#### Github API\n",
    "Github API is an example of API that does not need _authentication_. You can send `GET` requests to the API and receive information.  \n",
    "\n",
    "The `get()` method send a request to Github's API, and stored information in a variable called `request`. Next, let's see if it's successful. "
   ]
  },
  {
   "cell_type": "code",
   "execution_count": 2,
   "metadata": {},
   "outputs": [],
   "source": [
    "request = requests.get('https://api.github.com')"
   ]
  },
  {
   "cell_type": "code",
   "execution_count": 3,
   "metadata": {},
   "outputs": [
    {
     "data": {
      "text/plain": [
       "200"
      ]
     },
     "execution_count": 3,
     "metadata": {},
     "output_type": "execute_result"
    }
   ],
   "source": [
    "## status code\n",
    "request.status_code"
   ]
  },
  {
   "cell_type": "code",
   "execution_count": 4,
   "metadata": {},
   "outputs": [
    {
     "data": {
      "text/plain": [
       "'{\\n  \"current_user_url\": \"https://api.github.com/user\",\\n  \"current_user_authorizations_html_url\": \"https://github.com/settings/connections/applications{/client_id}\",\\n  \"authorizations_url\": \"https://api.github.com/authorizations\",\\n  \"code_search_url\": \"https://api.github.com/search/code?q={query}{&page,per_page,sort,order}\",\\n  \"commit_search_url\": \"https://api.github.com/search/commits?q={query}{&page,per_page,sort,order}\",\\n  \"emails_url\": \"https://api.github.com/user/emails\",\\n  \"emojis_url\": \"https://api.github.com/emojis\",\\n  \"events_url\": \"https://api.github.com/events\",\\n  \"feeds_url\": \"https://api.github.com/feeds\",\\n  \"followers_url\": \"https://api.github.com/user/followers\",\\n  \"following_url\": \"https://api.github.com/user/following{/target}\",\\n  \"gists_url\": \"https://api.github.com/gists{/gist_id}\",\\n  \"hub_url\": \"https://api.github.com/hub\",\\n  \"issue_search_url\": \"https://api.github.com/search/issues?q={query}{&page,per_page,sort,order}\",\\n  \"issues_url\": \"https://api.github.com/issues\",\\n  \"keys_url\": \"https://api.github.com/user/keys\",\\n  \"label_search_url\": \"https://api.github.com/search/labels?q={query}&repository_id={repository_id}{&page,per_page}\",\\n  \"notifications_url\": \"https://api.github.com/notifications\",\\n  \"organization_url\": \"https://api.github.com/orgs/{org}\",\\n  \"organization_repositories_url\": \"https://api.github.com/orgs/{org}/repos{?type,page,per_page,sort}\",\\n  \"organization_teams_url\": \"https://api.github.com/orgs/{org}/teams\",\\n  \"public_gists_url\": \"https://api.github.com/gists/public\",\\n  \"rate_limit_url\": \"https://api.github.com/rate_limit\",\\n  \"repository_url\": \"https://api.github.com/repos/{owner}/{repo}\",\\n  \"repository_search_url\": \"https://api.github.com/search/repositories?q={query}{&page,per_page,sort,order}\",\\n  \"current_user_repositories_url\": \"https://api.github.com/user/repos{?type,page,per_page,sort}\",\\n  \"starred_url\": \"https://api.github.com/user/starred{/owner}{/repo}\",\\n  \"starred_gists_url\": \"https://api.github.com/gists/starred\",\\n  \"user_url\": \"https://api.github.com/users/{user}\",\\n  \"user_organizations_url\": \"https://api.github.com/user/orgs\",\\n  \"user_repositories_url\": \"https://api.github.com/users/{user}/repos{?type,page,per_page,sort}\",\\n  \"user_search_url\": \"https://api.github.com/search/users?q={query}{&page,per_page,sort,order}\"\\n}\\n'"
      ]
     },
     "execution_count": 4,
     "metadata": {},
     "output_type": "execute_result"
    }
   ],
   "source": [
    "# examine the body of the request\n",
    "request.text"
   ]
  },
  {
   "cell_type": "code",
   "execution_count": 5,
   "metadata": {},
   "outputs": [
    {
     "data": {
      "text/plain": [
       "str"
      ]
     },
     "execution_count": 5,
     "metadata": {},
     "output_type": "execute_result"
    }
   ],
   "source": [
    "type(request.text)"
   ]
  },
  {
   "cell_type": "code",
   "execution_count": 6,
   "metadata": {},
   "outputs": [
    {
     "data": {
      "text/plain": [
       "bytes"
      ]
     },
     "execution_count": 6,
     "metadata": {},
     "output_type": "execute_result"
    }
   ],
   "source": [
    "type(request.content)"
   ]
  },
  {
   "cell_type": "code",
   "execution_count": 7,
   "metadata": {
    "scrolled": true
   },
   "outputs": [
    {
     "data": {
      "text/plain": [
       "b'{\\n  \"current_user_url\": \"https://api.github.com/user\",\\n  \"current_user_authorizations_html_url\": \"https://github.com/settings/connections/applications{/client_id}\",\\n  \"authorizations_url\": \"https://api.github.com/authorizations\",\\n  \"code_search_url\": \"https://api.github.com/search/code?q={query}{&page,per_page,sort,order}\",\\n  \"commit_search_url\": \"https://api.github.com/search/commits?q={query}{&page,per_page,sort,order}\",\\n  \"emails_url\": \"https://api.github.com/user/emails\",\\n  \"emojis_url\": \"https://api.github.com/emojis\",\\n  \"events_url\": \"https://api.github.com/events\",\\n  \"feeds_url\": \"https://api.github.com/feeds\",\\n  \"followers_url\": \"https://api.github.com/user/followers\",\\n  \"following_url\": \"https://api.github.com/user/following{/target}\",\\n  \"gists_url\": \"https://api.github.com/gists{/gist_id}\",\\n  \"hub_url\": \"https://api.github.com/hub\",\\n  \"issue_search_url\": \"https://api.github.com/search/issues?q={query}{&page,per_page,sort,order}\",\\n  \"issues_url\": \"https://api.github.com/issues\",\\n  \"keys_url\": \"https://api.github.com/user/keys\",\\n  \"label_search_url\": \"https://api.github.com/search/labels?q={query}&repository_id={repository_id}{&page,per_page}\",\\n  \"notifications_url\": \"https://api.github.com/notifications\",\\n  \"organization_url\": \"https://api.github.com/orgs/{org}\",\\n  \"organization_repositories_url\": \"https://api.github.com/orgs/{org}/repos{?type,page,per_page,sort}\",\\n  \"organization_teams_url\": \"https://api.github.com/orgs/{org}/teams\",\\n  \"public_gists_url\": \"https://api.github.com/gists/public\",\\n  \"rate_limit_url\": \"https://api.github.com/rate_limit\",\\n  \"repository_url\": \"https://api.github.com/repos/{owner}/{repo}\",\\n  \"repository_search_url\": \"https://api.github.com/search/repositories?q={query}{&page,per_page,sort,order}\",\\n  \"current_user_repositories_url\": \"https://api.github.com/user/repos{?type,page,per_page,sort}\",\\n  \"starred_url\": \"https://api.github.com/user/starred{/owner}{/repo}\",\\n  \"starred_gists_url\": \"https://api.github.com/gists/starred\",\\n  \"user_url\": \"https://api.github.com/users/{user}\",\\n  \"user_organizations_url\": \"https://api.github.com/user/orgs\",\\n  \"user_repositories_url\": \"https://api.github.com/users/{user}/repos{?type,page,per_page,sort}\",\\n  \"user_search_url\": \"https://api.github.com/search/users?q={query}{&page,per_page,sort,order}\"\\n}\\n'"
      ]
     },
     "execution_count": 7,
     "metadata": {},
     "output_type": "execute_result"
    }
   ],
   "source": [
    "# examine the content\n",
    "request.content"
   ]
  },
  {
   "cell_type": "code",
   "execution_count": 8,
   "metadata": {},
   "outputs": [
    {
     "data": {
      "text/plain": [
       "'GitHub.com'"
      ]
     },
     "execution_count": 8,
     "metadata": {},
     "output_type": "execute_result"
    }
   ],
   "source": [
    "# examine the headers\n",
    "request.headers['server']"
   ]
  },
  {
   "cell_type": "code",
   "execution_count": 9,
   "metadata": {},
   "outputs": [],
   "source": [
    "# we can make use of the JSON library to efficiently load the data and manipulate it \n",
    "request_json = json.loads(request.text)"
   ]
  },
  {
   "cell_type": "code",
   "execution_count": 10,
   "metadata": {
    "scrolled": true
   },
   "outputs": [
    {
     "data": {
      "text/plain": [
       "{'current_user_url': 'https://api.github.com/user',\n",
       " 'current_user_authorizations_html_url': 'https://github.com/settings/connections/applications{/client_id}',\n",
       " 'authorizations_url': 'https://api.github.com/authorizations',\n",
       " 'code_search_url': 'https://api.github.com/search/code?q={query}{&page,per_page,sort,order}',\n",
       " 'commit_search_url': 'https://api.github.com/search/commits?q={query}{&page,per_page,sort,order}',\n",
       " 'emails_url': 'https://api.github.com/user/emails',\n",
       " 'emojis_url': 'https://api.github.com/emojis',\n",
       " 'events_url': 'https://api.github.com/events',\n",
       " 'feeds_url': 'https://api.github.com/feeds',\n",
       " 'followers_url': 'https://api.github.com/user/followers',\n",
       " 'following_url': 'https://api.github.com/user/following{/target}',\n",
       " 'gists_url': 'https://api.github.com/gists{/gist_id}',\n",
       " 'hub_url': 'https://api.github.com/hub',\n",
       " 'issue_search_url': 'https://api.github.com/search/issues?q={query}{&page,per_page,sort,order}',\n",
       " 'issues_url': 'https://api.github.com/issues',\n",
       " 'keys_url': 'https://api.github.com/user/keys',\n",
       " 'label_search_url': 'https://api.github.com/search/labels?q={query}&repository_id={repository_id}{&page,per_page}',\n",
       " 'notifications_url': 'https://api.github.com/notifications',\n",
       " 'organization_url': 'https://api.github.com/orgs/{org}',\n",
       " 'organization_repositories_url': 'https://api.github.com/orgs/{org}/repos{?type,page,per_page,sort}',\n",
       " 'organization_teams_url': 'https://api.github.com/orgs/{org}/teams',\n",
       " 'public_gists_url': 'https://api.github.com/gists/public',\n",
       " 'rate_limit_url': 'https://api.github.com/rate_limit',\n",
       " 'repository_url': 'https://api.github.com/repos/{owner}/{repo}',\n",
       " 'repository_search_url': 'https://api.github.com/search/repositories?q={query}{&page,per_page,sort,order}',\n",
       " 'current_user_repositories_url': 'https://api.github.com/user/repos{?type,page,per_page,sort}',\n",
       " 'starred_url': 'https://api.github.com/user/starred{/owner}{/repo}',\n",
       " 'starred_gists_url': 'https://api.github.com/gists/starred',\n",
       " 'user_url': 'https://api.github.com/users/{user}',\n",
       " 'user_organizations_url': 'https://api.github.com/user/orgs',\n",
       " 'user_repositories_url': 'https://api.github.com/users/{user}/repos{?type,page,per_page,sort}',\n",
       " 'user_search_url': 'https://api.github.com/search/users?q={query}{&page,per_page,sort,order}'}"
      ]
     },
     "execution_count": 10,
     "metadata": {},
     "output_type": "execute_result"
    }
   ],
   "source": [
    "request_json"
   ]
  },
  {
   "cell_type": "code",
   "execution_count": 11,
   "metadata": {},
   "outputs": [
    {
     "name": "stdout",
     "output_type": "stream",
     "text": [
      "current_user_url\n",
      "current_user_authorizations_html_url\n",
      "authorizations_url\n",
      "code_search_url\n",
      "commit_search_url\n",
      "emails_url\n",
      "emojis_url\n",
      "events_url\n",
      "feeds_url\n",
      "followers_url\n",
      "following_url\n",
      "gists_url\n",
      "hub_url\n",
      "issue_search_url\n",
      "issues_url\n",
      "keys_url\n",
      "label_search_url\n",
      "notifications_url\n",
      "organization_url\n",
      "organization_repositories_url\n",
      "organization_teams_url\n",
      "public_gists_url\n",
      "rate_limit_url\n",
      "repository_url\n",
      "repository_search_url\n",
      "current_user_repositories_url\n",
      "starred_url\n",
      "starred_gists_url\n",
      "user_url\n",
      "user_organizations_url\n",
      "user_repositories_url\n",
      "user_search_url\n"
     ]
    }
   ],
   "source": [
    "# loop through the request_json file and examine the keys \n",
    "\n",
    "# how do you loop through the keys again?\n",
    "for key in request_json.keys():\n",
    "    print(key)"
   ]
  },
  {
   "cell_type": "code",
   "execution_count": 12,
   "metadata": {},
   "outputs": [
    {
     "data": {
      "text/html": [
       "<div>\n",
       "<style scoped>\n",
       "    .dataframe tbody tr th:only-of-type {\n",
       "        vertical-align: middle;\n",
       "    }\n",
       "\n",
       "    .dataframe tbody tr th {\n",
       "        vertical-align: top;\n",
       "    }\n",
       "\n",
       "    .dataframe thead th {\n",
       "        text-align: right;\n",
       "    }\n",
       "</style>\n",
       "<table border=\"1\" class=\"dataframe\">\n",
       "  <thead>\n",
       "    <tr style=\"text-align: right;\">\n",
       "      <th></th>\n",
       "      <th>url</th>\n",
       "    </tr>\n",
       "  </thead>\n",
       "  <tbody>\n",
       "    <tr>\n",
       "      <th>current_user_url</th>\n",
       "      <td>https://api.github.com/user</td>\n",
       "    </tr>\n",
       "    <tr>\n",
       "      <th>current_user_authorizations_html_url</th>\n",
       "      <td>https://github.com/settings/connections/applic...</td>\n",
       "    </tr>\n",
       "    <tr>\n",
       "      <th>authorizations_url</th>\n",
       "      <td>https://api.github.com/authorizations</td>\n",
       "    </tr>\n",
       "    <tr>\n",
       "      <th>code_search_url</th>\n",
       "      <td>https://api.github.com/search/code?q={query}{&amp;...</td>\n",
       "    </tr>\n",
       "    <tr>\n",
       "      <th>commit_search_url</th>\n",
       "      <td>https://api.github.com/search/commits?q={query...</td>\n",
       "    </tr>\n",
       "  </tbody>\n",
       "</table>\n",
       "</div>"
      ],
      "text/plain": [
       "                                                                                    url\n",
       "current_user_url                                            https://api.github.com/user\n",
       "current_user_authorizations_html_url  https://github.com/settings/connections/applic...\n",
       "authorizations_url                                https://api.github.com/authorizations\n",
       "code_search_url                       https://api.github.com/search/code?q={query}{&...\n",
       "commit_search_url                     https://api.github.com/search/commits?q={query..."
      ]
     },
     "execution_count": 12,
     "metadata": {},
     "output_type": "execute_result"
    }
   ],
   "source": [
    "# can you think of a way in which you'd put them in a dataframe?\n",
    "request_df = pd.DataFrame.from_dict(request_json, orient='index')\n",
    "request_df.columns = ['url']\n",
    "request_df.head()"
   ]
  },
  {
   "cell_type": "markdown",
   "metadata": {},
   "source": [
    "#### YELP API\n",
    "Sometimes you need _authentication_ to get data from a service in additional to just sending a `GET()` request. Yelp API is a perfect example. \n",
    "\n",
    "You will need to go to the YELP's developer's [website](https://www.yelp.com/developers/v3/manage_app) and request for a client ID and API key, which function like a key into a house of data. \n",
    "\n",
    "<img src='yelp.png' width = 500>"
   ]
  },
  {
   "cell_type": "code",
   "execution_count": 13,
   "metadata": {},
   "outputs": [],
   "source": [
    "# lets try to get some data from yelp!\n",
    "url = 'https://api.yelp.com/v3/businesses/search'\n",
    "response = requests.get(url)"
   ]
  },
  {
   "cell_type": "code",
   "execution_count": 14,
   "metadata": {},
   "outputs": [
    {
     "data": {
      "text/plain": [
       "400"
      ]
     },
     "execution_count": 14,
     "metadata": {},
     "output_type": "execute_result"
    }
   ],
   "source": [
    "# check the status code\n",
    "response.status_code\n",
    "\n",
    "# what happened here?"
   ]
  },
  {
   "cell_type": "code",
   "execution_count": 15,
   "metadata": {},
   "outputs": [],
   "source": [
    "#You have to use your API key to access the data!\n",
    "\n",
    "MY_API_KEY = \"HNWaDBOU9se7wTlqeupDdzor8cHWKugemsO46jNyaHzgz1JnH7bF_tGdaJzO2IaIIun-CojkpefActmsRdmg7fd7scQSWZkc11hK_J3qh1SEWNhrSYVujGCat7syX3Yx\" # replace this with your API key!\n",
    "client = Client(MY_API_KEY)"
   ]
  },
  {
   "cell_type": "code",
   "execution_count": 16,
   "metadata": {},
   "outputs": [
    {
     "name": "stdout",
     "output_type": "stream",
     "text": [
      "<Response [200]>\n",
      "<class 'str'>\n",
      "{\"businesses\": [{\"id\": \"4E6BkrEVf_0TjRVYE7gxeQ\", \"alias\": \"bury-the-hatchet-brooklyn-axe-throwing-brooklyn-2\", \"name\": \"Bury the Hatchet Brooklyn - Axe Throwing\", \"image_url\": \"https://s3-media3.fl.yelpcdn.com/bphoto/SH8_Nwmd13LkntwuzcEPeg/o.jpg\", \"is_closed\": false, \"url\": \"https://www.yelp.com/biz/bury-the-hatchet-brooklyn-axe-throwing-brooklyn-2?adjust_creative=LRNir3zm1G45pWEqyIHzYw&utm_campaign=yelp_api_v3&utm_medium=api_v3_business_search&utm_source=LRNir3zm1G45pWEqyIHzYw\", \"review_count\": 142, \"categories\": [{\"alias\": \"axethrowing\", \"title\": \"Axe Throwing\"}, {\"alias\": \"teambuilding\", \"title\": \"Team Building Activities\"}], \"rating\": 4.5, \"coordinates\": {\"latitude\": 40.7283195, \"longitude\": -73.9600679}, \"transactions\": [], \"location\": {\"address1\": \"25 Noble St\", \"address2\": null, \"address3\": \"\", \"city\": \"Brooklyn\", \"zip_code\": \"11222\", \"country\": \"US\", \"state\": \"NY\", \"display_address\": [\"25 Noble St\", \"Brooklyn, NY 11222\"]}, \"phone\": \"+19172439696\", \"display_phone\": \"(917) 243-9696\", \"distance\": 8652.979400045351}, {\"id\": \"PhEkSzYZHKYS7uyXePmkMw\", \"alias\": \"axes-and-arrows-long-island-city-2\", \"name\": \"Axes And Arrows\", \"image_url\": \"https://s3-media4.fl.yelpcdn.com/bphoto/Uinh_osn8ykDeLoigmgo0Q/o.jpg\", \"is_closed\": false, \"url\": \"https://www.yelp.com/biz/axes-and-arrows-long-island-city-2?adjust_creative=LRNir3zm1G45pWEqyIHzYw&utm_campaign=yelp_api_v3&utm_medium=api_v3_business_search&utm_source=LRNir3zm1G45pWEqyIHzYw\", \"review_count\": 49, \"categories\": [{\"alias\": \"axethrowing\", \"title\": \"Axe Throwing\"}, {\"alias\": \"archery\", \"title\": \"Archery\"}], \"rating\": 4.5, \"coordinates\": {\"latitude\": 40.7425127, \"longitude\": -73.933816}, \"transactions\": [], \"location\": {\"address1\": \"47- 11 Van Dam St\", \"address2\": null, \"address3\": \"\", \"city\": \"Long Island City\", \"zip_code\": \"11101\", \"country\": \"US\", \"state\": \"NY\", \"display_address\": [\"47- 11 Van Dam St\", \"Long Island City, NY 11101\"]}, \"phone\": \"+17183619152\", \"display_phone\": \"(718) 361-9152\", \"distance\": 9996.588059135383}, {\"id\": \"X0DNGKUQPjf0AfaXfXU2Qg\", \"alias\": \"kick-axe-throwing-brooklyn-2\", \"name\": \"Kick Axe Throwing\", \"image_url\": \"https://s3-media3.fl.yelpcdn.com/bphoto/y5yMn2xwzSncZaJzASFc8A/o.jpg\", \"is_closed\": false, \"url\": \"https://www.yelp.com/biz/kick-axe-throwing-brooklyn-2?adjust_creative=LRNir3zm1G45pWEqyIHzYw&utm_campaign=yelp_api_v3&utm_medium=api_v3_business_search&utm_source=LRNir3zm1G45pWEqyIHzYw\", \"review_count\": 398, \"categories\": [{\"alias\": \"bars\", \"title\": \"Bars\"}, {\"alias\": \"axethrowing\", \"title\": \"Axe Throwing\"}, {\"alias\": \"tradamerican\", \"title\": \"American (Traditional)\"}], \"rating\": 4.5, \"coordinates\": {\"latitude\": 40.6790268, \"longitude\": -73.983077}, \"transactions\": [], \"location\": {\"address1\": \"622 Degraw St\", \"address2\": null, \"address3\": \"\", \"city\": \"Brooklyn\", \"zip_code\": \"11217\", \"country\": \"US\", \"state\": \"NY\", \"display_address\": [\"622 Degraw St\", \"Brooklyn, NY 11217\"]}, \"phone\": \"+18335425293\", \"display_phone\": \"(833) 542-5293\", \"distance\": 4733.616620254917}, {\"id\": \"lZVE27r_W_3GXxNwECYC4g\", \"alias\": \"live-axe-new-york\", \"name\": \"Live Axe\", \"image_url\": \"https://s3-media2.fl.yelpcdn.com/bphoto/-Z1qvni_2N-K85FHmaesaQ/o.jpg\", \"is_closed\": false, \"url\": \"https://www.yelp.com/biz/live-axe-new-york?adjust_creative=LRNir3zm1G45pWEqyIHzYw&utm_campaign=yelp_api_v3&utm_medium=api_v3_business_search&utm_source=LRNir3zm1G45pWEqyIHzYw\", \"review_count\": 2, \"categories\": [{\"alias\": \"axethrowing\", \"title\": \"Axe Throwing\"}, {\"alias\": \"bars\", \"title\": \"Bars\"}], \"rating\": 5.0, \"coordinates\": {\"latitude\": 40.71769, \"longitude\": -74.00144}, \"transactions\": [], \"location\": {\"address1\": \"96 Lafayette St\", \"address2\": null, \"address3\": null, \"city\": \"New York\", \"zip_code\": \"10013\", \"country\": \"US\", \"state\": \"NY\", \"display_address\": [\"96 Lafayette St\", \"New York, NY 10013\"]}, \"phone\": \"+18888129060\", \"display_phone\": \"(888) 812-9060\", \"distance\": 8955.976101576549}, {\"id\": \"yXOjBSwyqOKDY7oHx3z7HA\", \"alias\": \"tomahawks-jersey-city\", \"name\": \"Tomahawks\", \"image_url\": \"https://s3-media3.fl.yelpcdn.com/bphoto/z9tY1kaOvaSewlTWzLGfGw/o.jpg\", \"is_closed\": false, \"url\": \"https://www.yelp.com/biz/tomahawks-jersey-city?adjust_creative=LRNir3zm1G45pWEqyIHzYw&utm_campaign=yelp_api_v3&utm_medium=api_v3_business_search&utm_source=LRNir3zm1G45pWEqyIHzYw\", \"review_count\": 12, \"categories\": [{\"alias\": \"axethrowing\", \"title\": \"Axe Throwing\"}], \"rating\": 4.5, \"coordinates\": {\"latitude\": 40.7411216, \"longitude\": -74.0493572}, \"transactions\": [], \"location\": {\"address1\": \"7 Sherman Ave\", \"address2\": \"Fl 2\", \"address3\": \"\", \"city\": \"Jersey City\", \"zip_code\": \"07307\", \"country\": \"US\", \"state\": \"NJ\", \"display_address\": [\"7 Sherman Ave\", \"Fl 2\", \"Jersey City, NJ 07307\"]}, \"phone\": \"+12014209722\", \"display_phone\": \"(201) 420-9722\", \"distance\": 13556.0314007906}, {\"id\": \"wuy6jyi5cxm1pwnUTWyBLw\", \"alias\": \"stumpys-hatchet-house-fairfield-fairfield-3\", \"name\": \"Stumpy's Hatchet House Fairfield - Axe Throwing\", \"image_url\": \"https://s3-media1.fl.yelpcdn.com/bphoto/yKG858jIoenW0jLpq6Hg1A/o.jpg\", \"is_closed\": false, \"url\": \"https://www.yelp.com/biz/stumpys-hatchet-house-fairfield-fairfield-3?adjust_creative=LRNir3zm1G45pWEqyIHzYw&utm_campaign=yelp_api_v3&utm_medium=api_v3_business_search&utm_source=LRNir3zm1G45pWEqyIHzYw\", \"review_count\": 45, \"categories\": [{\"alias\": \"axethrowing\", \"title\": \"Axe Throwing\"}, {\"alias\": \"recreation\", \"title\": \"Recreation Centers\"}], \"rating\": 5.0, \"coordinates\": {\"latitude\": 40.8824525201793, \"longitude\": -74.2942046508915}, \"transactions\": [], \"location\": {\"address1\": \"373 Us-46 W\", \"address2\": \"Ste D140\", \"address3\": \"\", \"city\": \"Fairfield\", \"zip_code\": \"07004\", \"country\": \"US\", \"state\": \"NJ\", \"display_address\": [\"373 Us-46 W\", \"Ste D140\", \"Fairfield, NJ 07004\"]}, \"phone\": \"+19737213120\", \"display_phone\": \"(973) 721-3120\", \"distance\": 39341.674681213146}, {\"id\": \"oKkn9nKh6jB-fsQIDbP4tQ\", \"alias\": \"bury-the-hatchet-matawan\", \"name\": \"Bury The Hatchet\", \"image_url\": \"https://s3-media1.fl.yelpcdn.com/bphoto/EsKEUTyvjjzdr6SzTzubSQ/o.jpg\", \"is_closed\": false, \"url\": \"https://www.yelp.com/biz/bury-the-hatchet-matawan?adjust_creative=LRNir3zm1G45pWEqyIHzYw&utm_campaign=yelp_api_v3&utm_medium=api_v3_business_search&utm_source=LRNir3zm1G45pWEqyIHzYw\", \"review_count\": 88, \"categories\": [{\"alias\": \"axethrowing\", \"title\": \"Axe Throwing\"}, {\"alias\": \"teambuilding\", \"title\": \"Team Building Activities\"}], \"rating\": 5.0, \"coordinates\": {\"latitude\": 40.4234040521118, \"longitude\": -74.2643531039357}, \"transactions\": [], \"location\": {\"address1\": \"419 Route 34\", \"address2\": \"\", \"address3\": null, \"city\": \"Matawan\", \"zip_code\": \"07747\", \"country\": \"US\", \"state\": \"NJ\", \"display_address\": [\"419 Route 34\", \"Matawan, NJ 07747\"]}, \"phone\": \"+17329626284\", \"display_phone\": \"(732) 962-6284\", \"distance\": 37446.224760844736}, {\"id\": \"xC9gtq17G9XU5d-yjkprfA\", \"alias\": \"bury-the-hatchet-paramus-axe-throwing-paramus-2\", \"name\": \"Bury the Hatchet Paramus - Axe Throwing\", \"image_url\": \"https://s3-media4.fl.yelpcdn.com/bphoto/2z7jvctXJEeKUBKB-XIPSg/o.jpg\", \"is_closed\": false, \"url\": \"https://www.yelp.com/biz/bury-the-hatchet-paramus-axe-throwing-paramus-2?adjust_creative=LRNir3zm1G45pWEqyIHzYw&utm_campaign=yelp_api_v3&utm_medium=api_v3_business_search&utm_source=LRNir3zm1G45pWEqyIHzYw\", \"review_count\": 74, \"categories\": [{\"alias\": \"axethrowing\", \"title\": \"Axe Throwing\"}], \"rating\": 4.0, \"coordinates\": {\"latitude\": 40.94936, \"longitude\": -74.068}, \"transactions\": [], \"location\": {\"address1\": \"49 E Midland Ave\", \"address2\": null, \"address3\": \"\", \"city\": \"Paramus\", \"zip_code\": \"07652\", \"country\": \"US\", \"state\": \"NJ\", \"display_address\": [\"49 E Midland Ave\", \"Paramus, NJ 07652\"]}, \"phone\": \"+12016883358\", \"display_phone\": \"(201) 688-3358\", \"distance\": 34723.273827788835}, {\"id\": \"1BUoVTCYSpGfG0oobAr5Hg\", \"alias\": \"bury-the-hatchet-axe-throwing-bloomfield-bloomfield\", \"name\": \"Bury The Hatchet Axe Throwing- Bloomfield\", \"image_url\": \"https://s3-media4.fl.yelpcdn.com/bphoto/c7amJNaBe8KAvI2zaMvYqQ/o.jpg\", \"is_closed\": false, \"url\": \"https://www.yelp.com/biz/bury-the-hatchet-axe-throwing-bloomfield-bloomfield?adjust_creative=LRNir3zm1G45pWEqyIHzYw&utm_campaign=yelp_api_v3&utm_medium=api_v3_business_search&utm_source=LRNir3zm1G45pWEqyIHzYw\", \"review_count\": 89, \"categories\": [{\"alias\": \"axethrowing\", \"title\": \"Axe Throwing\"}], \"rating\": 4.5, \"coordinates\": {\"latitude\": 40.79607, \"longitude\": -74.2003299}, \"transactions\": [], \"location\": {\"address1\": \"672 Bloomfield Ave\", \"address2\": null, \"address3\": \"\", \"city\": \"Bloomfield\", \"zip_code\": \"07003\", \"country\": \"US\", \"state\": \"NJ\", \"display_address\": [\"672 Bloomfield Ave\", \"Bloomfield, NJ 07003\"]}, \"phone\": \"+19738427725\", \"display_phone\": \"(973) 842-7725\", \"distance\": 27173.957270887662}, {\"id\": \"5izrkxTF_OWgwEdgzjNCAA\", \"alias\": \"bury-the-hatchet-woodbridge-axe-throwing-avenel\", \"name\": \"Bury The Hatchet Woodbridge - Axe Throwing\", \"image_url\": \"https://s3-media4.fl.yelpcdn.com/bphoto/UCivFgn-R6bEcNn4_S4Ajw/o.jpg\", \"is_closed\": false, \"url\": \"https://www.yelp.com/biz/bury-the-hatchet-woodbridge-axe-throwing-avenel?adjust_creative=LRNir3zm1G45pWEqyIHzYw&utm_campaign=yelp_api_v3&utm_medium=api_v3_business_search&utm_source=LRNir3zm1G45pWEqyIHzYw\", \"review_count\": 6, \"categories\": [{\"alias\": \"axethrowing\", \"title\": \"Axe Throwing\"}], \"rating\": 4.5, \"coordinates\": {\"latitude\": 40.5919, \"longitude\": -74.28943}, \"transactions\": [], \"location\": {\"address1\": \"1600 St Georges Ave\", \"address2\": null, \"address3\": \"\", \"city\": \"Avenel\", \"zip_code\": \"07001\", \"country\": \"US\", \"state\": \"NJ\", \"display_address\": [\"1600 St Georges Ave\", \"Avenel, NJ 07001\"]}, \"phone\": \"+17322986614\", \"display_phone\": \"(732) 298-6614\", \"distance\": 30245.23722930506}], \"total\": 25, \"region\": {\"center\": {\"longitude\": -73.93936157226562, \"latitude\": 40.652330148320374}}}\n"
     ]
    }
   ],
   "source": [
    "# now we are ready to get our data \n",
    "\n",
    "# usually, services would limit you to a certain amount of API calls. This varies from service\n",
    "# to service, so you have to watch out to it \n",
    "\n",
    "term = 'Axe Throwing'\n",
    "location = 'Brooklyn'\n",
    "SEARCH_LIMIT = 10\n",
    "\n",
    "url = 'https://api.yelp.com/v3/businesses/search'\n",
    "\n",
    "headers = {\n",
    "        'Authorization': 'Bearer {}'.format(MY_API_KEY),\n",
    "    }\n",
    "\n",
    "url_params = {\n",
    "                'term': term.replace(' ', '+'),\n",
    "                'location': location.replace(' ', '+'),\n",
    "                'limit': SEARCH_LIMIT\n",
    "            }\n",
    "response = requests.get(url, headers=headers, params=url_params)\n",
    "print(response)\n",
    "print(type(response.text))\n",
    "print(response.text)"
   ]
  },
  {
   "cell_type": "code",
   "execution_count": 17,
   "metadata": {},
   "outputs": [],
   "source": [
    "# cleaning and formatting the data\n",
    "axe_throwing = response.text\n",
    "axe_throwing = json.loads(axe_throwing)"
   ]
  },
  {
   "cell_type": "code",
   "execution_count": 18,
   "metadata": {
    "scrolled": false
   },
   "outputs": [
    {
     "name": "stdout",
     "output_type": "stream",
     "text": [
      "businesses\n",
      "total\n",
      "region\n"
     ]
    }
   ],
   "source": [
    "# cleaning and exploring the data\n",
    "for key in axe_throwing.keys():\n",
    "    print(key)"
   ]
  },
  {
   "cell_type": "code",
   "execution_count": 19,
   "metadata": {
    "scrolled": false
   },
   "outputs": [
    {
     "data": {
      "text/plain": [
       "dict_keys(['id', 'alias', 'name', 'image_url', 'is_closed', 'url', 'review_count', 'categories', 'rating', 'coordinates', 'transactions', 'location', 'phone', 'display_phone', 'distance'])"
      ]
     },
     "execution_count": 19,
     "metadata": {},
     "output_type": "execute_result"
    }
   ],
   "source": [
    "# examine the first element of businesses\n",
    "axe_throwing['businesses'][0].keys()"
   ]
  },
  {
   "cell_type": "code",
   "execution_count": 20,
   "metadata": {
    "scrolled": false
   },
   "outputs": [
    {
     "data": {
      "text/html": [
       "<div>\n",
       "<style scoped>\n",
       "    .dataframe tbody tr th:only-of-type {\n",
       "        vertical-align: middle;\n",
       "    }\n",
       "\n",
       "    .dataframe tbody tr th {\n",
       "        vertical-align: top;\n",
       "    }\n",
       "\n",
       "    .dataframe thead th {\n",
       "        text-align: right;\n",
       "    }\n",
       "</style>\n",
       "<table border=\"1\" class=\"dataframe\">\n",
       "  <thead>\n",
       "    <tr style=\"text-align: right;\">\n",
       "      <th></th>\n",
       "      <th>id</th>\n",
       "      <th>alias</th>\n",
       "      <th>name</th>\n",
       "      <th>image_url</th>\n",
       "      <th>is_closed</th>\n",
       "      <th>url</th>\n",
       "      <th>review_count</th>\n",
       "      <th>categories</th>\n",
       "      <th>rating</th>\n",
       "      <th>coordinates</th>\n",
       "      <th>transactions</th>\n",
       "      <th>location</th>\n",
       "      <th>phone</th>\n",
       "      <th>display_phone</th>\n",
       "      <th>distance</th>\n",
       "    </tr>\n",
       "  </thead>\n",
       "  <tbody>\n",
       "    <tr>\n",
       "      <th>0</th>\n",
       "      <td>4E6BkrEVf_0TjRVYE7gxeQ</td>\n",
       "      <td>bury-the-hatchet-brooklyn-axe-throwing-brooklyn-2</td>\n",
       "      <td>Bury the Hatchet Brooklyn - Axe Throwing</td>\n",
       "      <td>https://s3-media3.fl.yelpcdn.com/bphoto/SH8_Nw...</td>\n",
       "      <td>False</td>\n",
       "      <td>https://www.yelp.com/biz/bury-the-hatchet-broo...</td>\n",
       "      <td>142</td>\n",
       "      <td>[{'alias': 'axethrowing', 'title': 'Axe Throwi...</td>\n",
       "      <td>4.5</td>\n",
       "      <td>{'latitude': 40.7283195, 'longitude': -73.9600...</td>\n",
       "      <td>[]</td>\n",
       "      <td>{'address1': '25 Noble St', 'address2': None, ...</td>\n",
       "      <td>+19172439696</td>\n",
       "      <td>(917) 243-9696</td>\n",
       "      <td>8652.979400</td>\n",
       "    </tr>\n",
       "    <tr>\n",
       "      <th>1</th>\n",
       "      <td>PhEkSzYZHKYS7uyXePmkMw</td>\n",
       "      <td>axes-and-arrows-long-island-city-2</td>\n",
       "      <td>Axes And Arrows</td>\n",
       "      <td>https://s3-media4.fl.yelpcdn.com/bphoto/Uinh_o...</td>\n",
       "      <td>False</td>\n",
       "      <td>https://www.yelp.com/biz/axes-and-arrows-long-...</td>\n",
       "      <td>49</td>\n",
       "      <td>[{'alias': 'axethrowing', 'title': 'Axe Throwi...</td>\n",
       "      <td>4.5</td>\n",
       "      <td>{'latitude': 40.7425127, 'longitude': -73.933816}</td>\n",
       "      <td>[]</td>\n",
       "      <td>{'address1': '47- 11 Van Dam St', 'address2': ...</td>\n",
       "      <td>+17183619152</td>\n",
       "      <td>(718) 361-9152</td>\n",
       "      <td>9996.588059</td>\n",
       "    </tr>\n",
       "    <tr>\n",
       "      <th>2</th>\n",
       "      <td>X0DNGKUQPjf0AfaXfXU2Qg</td>\n",
       "      <td>kick-axe-throwing-brooklyn-2</td>\n",
       "      <td>Kick Axe Throwing</td>\n",
       "      <td>https://s3-media3.fl.yelpcdn.com/bphoto/y5yMn2...</td>\n",
       "      <td>False</td>\n",
       "      <td>https://www.yelp.com/biz/kick-axe-throwing-bro...</td>\n",
       "      <td>398</td>\n",
       "      <td>[{'alias': 'bars', 'title': 'Bars'}, {'alias':...</td>\n",
       "      <td>4.5</td>\n",
       "      <td>{'latitude': 40.6790268, 'longitude': -73.983077}</td>\n",
       "      <td>[]</td>\n",
       "      <td>{'address1': '622 Degraw St', 'address2': None...</td>\n",
       "      <td>+18335425293</td>\n",
       "      <td>(833) 542-5293</td>\n",
       "      <td>4733.616620</td>\n",
       "    </tr>\n",
       "    <tr>\n",
       "      <th>3</th>\n",
       "      <td>lZVE27r_W_3GXxNwECYC4g</td>\n",
       "      <td>live-axe-new-york</td>\n",
       "      <td>Live Axe</td>\n",
       "      <td>https://s3-media2.fl.yelpcdn.com/bphoto/-Z1qvn...</td>\n",
       "      <td>False</td>\n",
       "      <td>https://www.yelp.com/biz/live-axe-new-york?adj...</td>\n",
       "      <td>2</td>\n",
       "      <td>[{'alias': 'axethrowing', 'title': 'Axe Throwi...</td>\n",
       "      <td>5.0</td>\n",
       "      <td>{'latitude': 40.71769, 'longitude': -74.00144}</td>\n",
       "      <td>[]</td>\n",
       "      <td>{'address1': '96 Lafayette St', 'address2': No...</td>\n",
       "      <td>+18888129060</td>\n",
       "      <td>(888) 812-9060</td>\n",
       "      <td>8955.976102</td>\n",
       "    </tr>\n",
       "    <tr>\n",
       "      <th>4</th>\n",
       "      <td>yXOjBSwyqOKDY7oHx3z7HA</td>\n",
       "      <td>tomahawks-jersey-city</td>\n",
       "      <td>Tomahawks</td>\n",
       "      <td>https://s3-media3.fl.yelpcdn.com/bphoto/z9tY1k...</td>\n",
       "      <td>False</td>\n",
       "      <td>https://www.yelp.com/biz/tomahawks-jersey-city...</td>\n",
       "      <td>12</td>\n",
       "      <td>[{'alias': 'axethrowing', 'title': 'Axe Throwi...</td>\n",
       "      <td>4.5</td>\n",
       "      <td>{'latitude': 40.7411216, 'longitude': -74.0493...</td>\n",
       "      <td>[]</td>\n",
       "      <td>{'address1': '7 Sherman Ave', 'address2': 'Fl ...</td>\n",
       "      <td>+12014209722</td>\n",
       "      <td>(201) 420-9722</td>\n",
       "      <td>13556.031401</td>\n",
       "    </tr>\n",
       "    <tr>\n",
       "      <th>5</th>\n",
       "      <td>wuy6jyi5cxm1pwnUTWyBLw</td>\n",
       "      <td>stumpys-hatchet-house-fairfield-fairfield-3</td>\n",
       "      <td>Stumpy's Hatchet House Fairfield - Axe Throwing</td>\n",
       "      <td>https://s3-media1.fl.yelpcdn.com/bphoto/yKG858...</td>\n",
       "      <td>False</td>\n",
       "      <td>https://www.yelp.com/biz/stumpys-hatchet-house...</td>\n",
       "      <td>45</td>\n",
       "      <td>[{'alias': 'axethrowing', 'title': 'Axe Throwi...</td>\n",
       "      <td>5.0</td>\n",
       "      <td>{'latitude': 40.8824525201793, 'longitude': -7...</td>\n",
       "      <td>[]</td>\n",
       "      <td>{'address1': '373 Us-46 W', 'address2': 'Ste D...</td>\n",
       "      <td>+19737213120</td>\n",
       "      <td>(973) 721-3120</td>\n",
       "      <td>39341.674681</td>\n",
       "    </tr>\n",
       "    <tr>\n",
       "      <th>6</th>\n",
       "      <td>oKkn9nKh6jB-fsQIDbP4tQ</td>\n",
       "      <td>bury-the-hatchet-matawan</td>\n",
       "      <td>Bury The Hatchet</td>\n",
       "      <td>https://s3-media1.fl.yelpcdn.com/bphoto/EsKEUT...</td>\n",
       "      <td>False</td>\n",
       "      <td>https://www.yelp.com/biz/bury-the-hatchet-mata...</td>\n",
       "      <td>88</td>\n",
       "      <td>[{'alias': 'axethrowing', 'title': 'Axe Throwi...</td>\n",
       "      <td>5.0</td>\n",
       "      <td>{'latitude': 40.4234040521118, 'longitude': -7...</td>\n",
       "      <td>[]</td>\n",
       "      <td>{'address1': '419 Route 34', 'address2': '', '...</td>\n",
       "      <td>+17329626284</td>\n",
       "      <td>(732) 962-6284</td>\n",
       "      <td>37446.224761</td>\n",
       "    </tr>\n",
       "    <tr>\n",
       "      <th>7</th>\n",
       "      <td>xC9gtq17G9XU5d-yjkprfA</td>\n",
       "      <td>bury-the-hatchet-paramus-axe-throwing-paramus-2</td>\n",
       "      <td>Bury the Hatchet Paramus - Axe Throwing</td>\n",
       "      <td>https://s3-media4.fl.yelpcdn.com/bphoto/2z7jvc...</td>\n",
       "      <td>False</td>\n",
       "      <td>https://www.yelp.com/biz/bury-the-hatchet-para...</td>\n",
       "      <td>74</td>\n",
       "      <td>[{'alias': 'axethrowing', 'title': 'Axe Throwi...</td>\n",
       "      <td>4.0</td>\n",
       "      <td>{'latitude': 40.94936, 'longitude': -74.068}</td>\n",
       "      <td>[]</td>\n",
       "      <td>{'address1': '49 E Midland Ave', 'address2': N...</td>\n",
       "      <td>+12016883358</td>\n",
       "      <td>(201) 688-3358</td>\n",
       "      <td>34723.273828</td>\n",
       "    </tr>\n",
       "    <tr>\n",
       "      <th>8</th>\n",
       "      <td>1BUoVTCYSpGfG0oobAr5Hg</td>\n",
       "      <td>bury-the-hatchet-axe-throwing-bloomfield-bloom...</td>\n",
       "      <td>Bury The Hatchet Axe Throwing- Bloomfield</td>\n",
       "      <td>https://s3-media4.fl.yelpcdn.com/bphoto/c7amJN...</td>\n",
       "      <td>False</td>\n",
       "      <td>https://www.yelp.com/biz/bury-the-hatchet-axe-...</td>\n",
       "      <td>89</td>\n",
       "      <td>[{'alias': 'axethrowing', 'title': 'Axe Throwi...</td>\n",
       "      <td>4.5</td>\n",
       "      <td>{'latitude': 40.79607, 'longitude': -74.2003299}</td>\n",
       "      <td>[]</td>\n",
       "      <td>{'address1': '672 Bloomfield Ave', 'address2':...</td>\n",
       "      <td>+19738427725</td>\n",
       "      <td>(973) 842-7725</td>\n",
       "      <td>27173.957271</td>\n",
       "    </tr>\n",
       "    <tr>\n",
       "      <th>9</th>\n",
       "      <td>5izrkxTF_OWgwEdgzjNCAA</td>\n",
       "      <td>bury-the-hatchet-woodbridge-axe-throwing-avenel</td>\n",
       "      <td>Bury The Hatchet Woodbridge - Axe Throwing</td>\n",
       "      <td>https://s3-media4.fl.yelpcdn.com/bphoto/UCivFg...</td>\n",
       "      <td>False</td>\n",
       "      <td>https://www.yelp.com/biz/bury-the-hatchet-wood...</td>\n",
       "      <td>6</td>\n",
       "      <td>[{'alias': 'axethrowing', 'title': 'Axe Throwi...</td>\n",
       "      <td>4.5</td>\n",
       "      <td>{'latitude': 40.5919, 'longitude': -74.28943}</td>\n",
       "      <td>[]</td>\n",
       "      <td>{'address1': '1600 St Georges Ave', 'address2'...</td>\n",
       "      <td>+17322986614</td>\n",
       "      <td>(732) 298-6614</td>\n",
       "      <td>30245.237229</td>\n",
       "    </tr>\n",
       "  </tbody>\n",
       "</table>\n",
       "</div>"
      ],
      "text/plain": [
       "                       id                                              alias  \\\n",
       "0  4E6BkrEVf_0TjRVYE7gxeQ  bury-the-hatchet-brooklyn-axe-throwing-brooklyn-2   \n",
       "1  PhEkSzYZHKYS7uyXePmkMw                 axes-and-arrows-long-island-city-2   \n",
       "2  X0DNGKUQPjf0AfaXfXU2Qg                       kick-axe-throwing-brooklyn-2   \n",
       "3  lZVE27r_W_3GXxNwECYC4g                                  live-axe-new-york   \n",
       "4  yXOjBSwyqOKDY7oHx3z7HA                              tomahawks-jersey-city   \n",
       "5  wuy6jyi5cxm1pwnUTWyBLw        stumpys-hatchet-house-fairfield-fairfield-3   \n",
       "6  oKkn9nKh6jB-fsQIDbP4tQ                           bury-the-hatchet-matawan   \n",
       "7  xC9gtq17G9XU5d-yjkprfA    bury-the-hatchet-paramus-axe-throwing-paramus-2   \n",
       "8  1BUoVTCYSpGfG0oobAr5Hg  bury-the-hatchet-axe-throwing-bloomfield-bloom...   \n",
       "9  5izrkxTF_OWgwEdgzjNCAA    bury-the-hatchet-woodbridge-axe-throwing-avenel   \n",
       "\n",
       "                                              name  \\\n",
       "0         Bury the Hatchet Brooklyn - Axe Throwing   \n",
       "1                                  Axes And Arrows   \n",
       "2                                Kick Axe Throwing   \n",
       "3                                         Live Axe   \n",
       "4                                        Tomahawks   \n",
       "5  Stumpy's Hatchet House Fairfield - Axe Throwing   \n",
       "6                                 Bury The Hatchet   \n",
       "7          Bury the Hatchet Paramus - Axe Throwing   \n",
       "8        Bury The Hatchet Axe Throwing- Bloomfield   \n",
       "9       Bury The Hatchet Woodbridge - Axe Throwing   \n",
       "\n",
       "                                           image_url  is_closed  \\\n",
       "0  https://s3-media3.fl.yelpcdn.com/bphoto/SH8_Nw...      False   \n",
       "1  https://s3-media4.fl.yelpcdn.com/bphoto/Uinh_o...      False   \n",
       "2  https://s3-media3.fl.yelpcdn.com/bphoto/y5yMn2...      False   \n",
       "3  https://s3-media2.fl.yelpcdn.com/bphoto/-Z1qvn...      False   \n",
       "4  https://s3-media3.fl.yelpcdn.com/bphoto/z9tY1k...      False   \n",
       "5  https://s3-media1.fl.yelpcdn.com/bphoto/yKG858...      False   \n",
       "6  https://s3-media1.fl.yelpcdn.com/bphoto/EsKEUT...      False   \n",
       "7  https://s3-media4.fl.yelpcdn.com/bphoto/2z7jvc...      False   \n",
       "8  https://s3-media4.fl.yelpcdn.com/bphoto/c7amJN...      False   \n",
       "9  https://s3-media4.fl.yelpcdn.com/bphoto/UCivFg...      False   \n",
       "\n",
       "                                                 url  review_count  \\\n",
       "0  https://www.yelp.com/biz/bury-the-hatchet-broo...           142   \n",
       "1  https://www.yelp.com/biz/axes-and-arrows-long-...            49   \n",
       "2  https://www.yelp.com/biz/kick-axe-throwing-bro...           398   \n",
       "3  https://www.yelp.com/biz/live-axe-new-york?adj...             2   \n",
       "4  https://www.yelp.com/biz/tomahawks-jersey-city...            12   \n",
       "5  https://www.yelp.com/biz/stumpys-hatchet-house...            45   \n",
       "6  https://www.yelp.com/biz/bury-the-hatchet-mata...            88   \n",
       "7  https://www.yelp.com/biz/bury-the-hatchet-para...            74   \n",
       "8  https://www.yelp.com/biz/bury-the-hatchet-axe-...            89   \n",
       "9  https://www.yelp.com/biz/bury-the-hatchet-wood...             6   \n",
       "\n",
       "                                          categories  rating  \\\n",
       "0  [{'alias': 'axethrowing', 'title': 'Axe Throwi...     4.5   \n",
       "1  [{'alias': 'axethrowing', 'title': 'Axe Throwi...     4.5   \n",
       "2  [{'alias': 'bars', 'title': 'Bars'}, {'alias':...     4.5   \n",
       "3  [{'alias': 'axethrowing', 'title': 'Axe Throwi...     5.0   \n",
       "4  [{'alias': 'axethrowing', 'title': 'Axe Throwi...     4.5   \n",
       "5  [{'alias': 'axethrowing', 'title': 'Axe Throwi...     5.0   \n",
       "6  [{'alias': 'axethrowing', 'title': 'Axe Throwi...     5.0   \n",
       "7  [{'alias': 'axethrowing', 'title': 'Axe Throwi...     4.0   \n",
       "8  [{'alias': 'axethrowing', 'title': 'Axe Throwi...     4.5   \n",
       "9  [{'alias': 'axethrowing', 'title': 'Axe Throwi...     4.5   \n",
       "\n",
       "                                         coordinates transactions  \\\n",
       "0  {'latitude': 40.7283195, 'longitude': -73.9600...           []   \n",
       "1  {'latitude': 40.7425127, 'longitude': -73.933816}           []   \n",
       "2  {'latitude': 40.6790268, 'longitude': -73.983077}           []   \n",
       "3     {'latitude': 40.71769, 'longitude': -74.00144}           []   \n",
       "4  {'latitude': 40.7411216, 'longitude': -74.0493...           []   \n",
       "5  {'latitude': 40.8824525201793, 'longitude': -7...           []   \n",
       "6  {'latitude': 40.4234040521118, 'longitude': -7...           []   \n",
       "7       {'latitude': 40.94936, 'longitude': -74.068}           []   \n",
       "8   {'latitude': 40.79607, 'longitude': -74.2003299}           []   \n",
       "9      {'latitude': 40.5919, 'longitude': -74.28943}           []   \n",
       "\n",
       "                                            location         phone  \\\n",
       "0  {'address1': '25 Noble St', 'address2': None, ...  +19172439696   \n",
       "1  {'address1': '47- 11 Van Dam St', 'address2': ...  +17183619152   \n",
       "2  {'address1': '622 Degraw St', 'address2': None...  +18335425293   \n",
       "3  {'address1': '96 Lafayette St', 'address2': No...  +18888129060   \n",
       "4  {'address1': '7 Sherman Ave', 'address2': 'Fl ...  +12014209722   \n",
       "5  {'address1': '373 Us-46 W', 'address2': 'Ste D...  +19737213120   \n",
       "6  {'address1': '419 Route 34', 'address2': '', '...  +17329626284   \n",
       "7  {'address1': '49 E Midland Ave', 'address2': N...  +12016883358   \n",
       "8  {'address1': '672 Bloomfield Ave', 'address2':...  +19738427725   \n",
       "9  {'address1': '1600 St Georges Ave', 'address2'...  +17322986614   \n",
       "\n",
       "    display_phone      distance  \n",
       "0  (917) 243-9696   8652.979400  \n",
       "1  (718) 361-9152   9996.588059  \n",
       "2  (833) 542-5293   4733.616620  \n",
       "3  (888) 812-9060   8955.976102  \n",
       "4  (201) 420-9722  13556.031401  \n",
       "5  (973) 721-3120  39341.674681  \n",
       "6  (732) 962-6284  37446.224761  \n",
       "7  (201) 688-3358  34723.273828  \n",
       "8  (973) 842-7725  27173.957271  \n",
       "9  (732) 298-6614  30245.237229  "
      ]
     },
     "execution_count": 20,
     "metadata": {},
     "output_type": "execute_result"
    }
   ],
   "source": [
    "axe_throwing_df = pd.DataFrame.from_dict(axe_throwing['businesses'])\n",
    "axe_throwing_df"
   ]
  },
  {
   "cell_type": "code",
   "execution_count": 21,
   "metadata": {
    "scrolled": true
   },
   "outputs": [
    {
     "data": {
      "text/plain": [
       "Text(0, 0.5, 'Count')"
      ]
     },
     "execution_count": 21,
     "metadata": {},
     "output_type": "execute_result"
    },
    {
     "data": {
      "image/png": "[encoded data removed]",
      "text/plain": [
       "<Figure size 576x396 with 1 Axes>"
      ]
     },
     "metadata": {},
     "output_type": "display_data"
    }
   ],
   "source": [
    "# you can do some analysis and visualization from here on! \n",
    "\n",
    "plt.hist(axe_throwing_df['review_count'], color='pink', alpha = 0.8)\n",
    "plt.title('Axe Throwing reviewing count in Brooklyn')\n",
    "plt.xlabel('Reviews')\n",
    "plt.ylabel('Count')"
   ]
  },
  {
   "cell_type": "code",
   "execution_count": 22,
   "metadata": {},
   "outputs": [
    {
     "data": {
      "text/plain": [
       "'Kick Axe Throwing'"
      ]
     },
     "execution_count": 22,
     "metadata": {},
     "output_type": "execute_result"
    }
   ],
   "source": [
    "# query the name of the axe throwing place with the highest review\n",
    "axe_throwing_df.sort_values(by = 'review_count', ascending = False).name.reset_index(drop = True)[0]\n"
   ]
  },
  {
   "cell_type": "code",
   "execution_count": null,
   "metadata": {},
   "outputs": [],
   "source": [
    "# can you do some other queries using sql/pandas?"
   ]
  },
  {
   "cell_type": "markdown",
   "metadata": {},
   "source": [
    "#### Resources\n",
    "- [Getting Data from Reddit API](https://www.storybench.org/how-to-scrape-reddit-with-python/)\n",
    "- [Twitch API](https://dev.twitch.tv/docs)"
   ]
  }
 ],
 "metadata": {
  "kernelspec": {
   "display_name": "Python 3",
   "language": "python",
   "name": "python3"
  },
  "language_info": {
   "codemirror_mode": {
    "name": "ipython",
    "version": 3
   },
   "file_extension": ".py",
   "mimetype": "text/x-python",
   "name": "python",
   "nbconvert_exporter": "python",
   "pygments_lexer": "ipython3",
   "version": "3.7.6"
  }
 },
 "nbformat": 4,
 "nbformat_minor": 2
}
